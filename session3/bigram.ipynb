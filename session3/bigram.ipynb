{
 "cells": [
  {
   "cell_type": "code",
   "execution_count": 89,
   "metadata": {},
   "outputs": [],
   "source": [
    "import io, sys, math, re\n",
    "from collections import defaultdict\n",
    "import numpy as np"
   ]
  },
  {
   "cell_type": "code",
   "execution_count": 90,
   "metadata": {},
   "outputs": [],
   "source": [
    "# dataloader\n",
    "\n",
    "def load_data(filename):\n",
    "    fin = io.open(filename, 'r', encoding='utf-8')\n",
    "    data = []\n",
    "    vocab = defaultdict(lambda:0)\n",
    "    for line in fin:\n",
    "        sentence = line.split()\n",
    "        data.append(sentence)\n",
    "        for word in sentence:\n",
    "            vocab[word] += 1\n",
    "    return data, vocab"
   ]
  },
  {
   "cell_type": "code",
   "execution_count": 91,
   "metadata": {},
   "outputs": [],
   "source": [
    "def remove_rare_words(data, vocab, mincount):\n",
    "    ## FILL CODE\n",
    "    # replace words in data that are not in the vocab \n",
    "    # or have a count that is below mincount\n",
    "    for key1,sentence in enumerate(data):\n",
    "        for key2,word in enumerate(sentence):\n",
    "            if word not in vocab.keys():\n",
    "                data[key1][key2]='<unk>'\n",
    "            elif vocab[word] < mincount:\n",
    "                data[key1][key2]='<unk>'\n",
    "            \n",
    "    return data"
   ]
  },
  {
   "cell_type": "code",
   "execution_count": 92,
   "metadata": {},
   "outputs": [
    {
     "name": "stdout",
     "output_type": "stream",
     "text": [
      "load validation set\n"
     ]
    }
   ],
   "source": [
    "# LOAD DATA\n",
    "\n",
    "train_data, vocab = load_data(\"train2.txt\")\n",
    "## FILL CODE \n",
    "# If you have a Out of Vocabulary error (OOV) \n",
    "# call the function \"remove_rare_words\" to replace \n",
    "# rare words with <unk> in the dataset\n",
    "train_data_ = remove_rare_words(train_data, vocab, mincount = 3)\n",
    "\n",
    "print(\"load validation set\")\n",
    "valid_data, _ = load_data(\"valid2.txt\")\n",
    "## FILL CODE \n",
    "# If you have a Out of Vocabulary error (OOV) \n",
    "# call the function \"remove_rare_words\" to replace \n",
    "# OOV with <unk> in the dataset\n",
    "valid_data_ = remove_rare_words(valid_data, vocab, mincount = 3)"
   ]
  },
  {
   "cell_type": "code",
   "execution_count": 99,
   "metadata": {},
   "outputs": [],
   "source": [
    "# Function to build a bigram model\n",
    "\n",
    "def build_bigram(data):\n",
    "    unigram_counts = defaultdict(lambda:0)\n",
    "    bigram_counts  = defaultdict(lambda: defaultdict(lambda: 0.0))\n",
    "    total_number_words = 0\n",
    "\n",
    "    ## FILL CODE\n",
    "    # Store the unigram and bigram counts as well as the total \n",
    "    # number of words in the dataset\n",
    "    for sentence in data:\n",
    "        for word in sentence:\n",
    "            unigram_counts[word] +=1\n",
    "            total_number_words +=1\n",
    "    for sentence in data:\n",
    "        for i in range(1,len(sentence)):\n",
    "            bigram_counts[sentence[i-1]][sentence[i]] +=1\n",
    "            \n",
    "    \n",
    "    unigram_prob = defaultdict(lambda:0)\n",
    "    bigram_prob = defaultdict(lambda: defaultdict(lambda: 0.0))\n",
    "\n",
    "    ## FILL CODE\n",
    "    # Build unigram and bigram probabilities from counts\n",
    "    for sen in data:\n",
    "        for w in sen:\n",
    "            unigram_prob[w] = unigram_counts[w]/total_number_words\n",
    "     \n",
    "    for key1, sentence in enumerate(data):\n",
    "        for key2, word in enumerate(sentence):\n",
    "            if key2+1 < len(sentence):\n",
    "                num = bigram_counts[data[key1][key2]][data[key1][key2+1]]\n",
    "                denom = unigram_counts[data[key1][key2]]\n",
    "                bigram_prob[data[key1][key2]][data[key1][key2+1]] = num/denom\n",
    "\n",
    "\n",
    "    return {'bigram': bigram_prob, 'unigram': unigram_prob}"
   ]
  },
  {
   "cell_type": "code",
   "execution_count": 100,
   "metadata": {},
   "outputs": [
    {
     "name": "stdout",
     "output_type": "stream",
     "text": [
      "build bigram model\n"
     ]
    }
   ],
   "source": [
    "# RUN TO BUILD BIGRAM MODEL\n",
    "\n",
    "print(\"build bigram model\")\n",
    "model = build_bigram(train_data)"
   ]
  },
  {
   "cell_type": "code",
   "execution_count": 101,
   "metadata": {},
   "outputs": [],
   "source": [
    "def get_prob(model, w1, w2):\n",
    "    assert model[\"unigram\"][w2] != 0, \"Out of Vocabulary word!\"\n",
    "    ## FILL CODE\n",
    "    # Should return the probability of the bigram (w1w2) if it exists\n",
    "    # Else it return the probility of unigram (w2) multiply by 0.4\n",
    "    if model['bigram']!=0:\n",
    "        return model['bigram'][w1][w2]\n",
    "    else:\n",
    "        return model['unigram'][w2] * 0.4\n",
    "def perplexity(model, data):\n",
    "    ## FILL CODE\n",
    "    # follow the formula in the slides\n",
    "    # call the function get_prob to get P(w2 | w1)\n",
    "    perpl = 0\n",
    "    T = 1\n",
    "    \n",
    "    for key1, sent in enumerate(data):\n",
    "        T = 1.0\n",
    "        perp_s = 1.0\n",
    "        for key2, word in enumerate(sent):\n",
    "            if key2+1 < len(data[key1]):\n",
    "                if model['bigram'][data[key1][key2]][data[key1][key2+1]] == 0:\n",
    "                    continue\n",
    "                    \n",
    "                perp_s *= model['bigram'][data[key1][key2]][data[key1][key2+1]]**(-1/T)\n",
    "                T+=1\n",
    "        perpl += perp_s\n",
    "    return perpl"
   ]
  },
  {
   "cell_type": "code",
   "execution_count": 102,
   "metadata": {},
   "outputs": [
    {
     "name": "stdout",
     "output_type": "stream",
     "text": [
      "The perplexity is 1207690469780.6226\n"
     ]
    }
   ],
   "source": [
    "# COMPUTE PERPLEXITY ON VALIDATION SET\n",
    "\n",
    "print(\"The perplexity is\", perplexity(model, valid_data))"
   ]
  },
  {
   "cell_type": "code",
   "execution_count": 103,
   "metadata": {},
   "outputs": [],
   "source": [
    "def generate(model):\n",
    "    sentence = [\"<s>\"]\n",
    "    ## FILL CODE\n",
    "    # generate a sentence. A sentence starts with a <s> and ends with a </s>\n",
    "    # Possiblly a use function is:\n",
    "    #   np.random.choice(x, 1, p = y)\n",
    "    # where x is a list of things to sample from\n",
    "    # and y is a list of probability (of the same length as x)\n",
    "    i = 0\n",
    "    while True :\n",
    "        model['bigram'][sentence[i]].keys()\n",
    "        x = list(model['bigram'][sentence[i]].keys())\n",
    "        y = list(model['bigram'][sentence[i]].values())\n",
    "        pred = np.random.choice(x, 1, p = y)\n",
    "\n",
    "        sentence.append(pred[0])\n",
    "        i+=1\n",
    "        if pred[0] == '</s>':\n",
    "            break\n",
    "    return sentence"
   ]
  },
  {
   "cell_type": "code",
   "execution_count": 104,
   "metadata": {},
   "outputs": [
    {
     "name": "stdout",
     "output_type": "stream",
     "text": [
      "Generated sentence:  ['<s>', 'his', 'dirty', 'job', '.', '</s>']\n"
     ]
    }
   ],
   "source": [
    "# GENERATE A SENTENCE FROM THE MODEL\n",
    "\n",
    "print(\"Generated sentence: \",generate(model))"
   ]
  },
  {
   "cell_type": "code",
   "execution_count": null,
   "metadata": {},
   "outputs": [],
   "source": []
  }
 ],
 "metadata": {
  "kernelspec": {
   "display_name": "Python 3",
   "language": "python",
   "name": "python3"
  },
  "language_info": {
   "codemirror_mode": {
    "name": "ipython",
    "version": 3
   },
   "file_extension": ".py",
   "mimetype": "text/x-python",
   "name": "python",
   "nbconvert_exporter": "python",
   "pygments_lexer": "ipython3",
   "version": "3.7.3"
  }
 },
 "nbformat": 4,
 "nbformat_minor": 2
}
